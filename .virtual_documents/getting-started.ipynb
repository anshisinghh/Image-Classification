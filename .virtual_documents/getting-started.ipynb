


!pip install tensorflow opencv-python matplotlib


!pip install Pillow


!pip list


import tensorflow as tf
import os





import cv2
from PIL import Image


data_dir = 'data' 


image_exts = ['jpeg','jpg', 'bmp', 'png']


for image_class in os.listdir(data_dir):
    image_class_path = os.path.join(data_dir, image_class)

    if os.path.isdir(image_class_path):
        for image in os.listdir(image_class_path):
            image_path = os.path.join(image_class_path, image)
            try:
                with Image.open(image_path) as img:
                    image_format = img.format.lower()
                    
                    if image_format not in image_exts:
                        print('Image not in ext list {}'.format(image_path))
                        os.remove(image_path)
            except Exception as e:
                print('Issue with image {}: {}'.format(image_path, e))
                # os.remove(image_path)
    else:
        print('Skipping non-directory item {}'.format(image_class_path))
        # os.remove(image_class_path)





import numpy as np
from matplotlib import pyplot as plt


data = tf.keras.utils.image_dataset_from_directory(
    'data', 
    label_mode='int', 
    image_size=(256, 256), 
    batch_size=32
)


data_iterator = data.as_numpy_iterator()


batch = data_iterator.next()


fig, ax = plt.subplots(ncols=4, figsize=(20,20))
for idx, img in enumerate(batch[0][:4]):
    ax[idx].imshow(img.astype(int))
    ax[idx].title.set_text(batch[1][idx])





data = data.map(lambda x,y: (x/255, y))


# data.as_numpy_iterator().next()





train_size = int(len(data) * 0.7)
val_size = int(len(data) * 0.2)
test_size = int(len(data) * 0.1)


train_size


train = data.take(train_size)
val = data.skip(train_size).take(val_size)
test = data.skip(train_size+val_size).take(test_size)





train


from tensorflow.keras.models import Sequential
from tensorflow.keras.layers import Conv2D, MaxPooling2D, Dense, Flatten, Dropout


model = Sequential()


model.add(Conv2D(16, (3, 3), 1, activation='relu', input_shape=(256, 256, 3)))
model.add(MaxPooling2D())
model.add(Conv2D(32, (3, 3), 1, activation='relu'))
model.add(MaxPooling2D())
model.add(Conv2D(64, (3, 3), 1, activation='relu'))
model.add(MaxPooling2D())
model.add(Flatten())
model.add(Dense(128, activation='relu'))
model.add(Dropout(0.5))
model.add(Dense(101, activation='softmax')) 


model.compile(optimizer='adam', loss='sparse_categorical_crossentropy', metrics=['accuracy'])


model.summary()





logdir='logs'


tensorboard_callback = tf.keras.callbacks.TensorBoard(log_dir=logdir)


hist = model.fit(train, epochs=20, validation_data=val, callbacks=[tensorboard_callback])





fig = plt.figure()
plt.plot(hist.history['loss'], color='teal', label='loss')
plt.plot(hist.history['val_loss'], color='orange', label='val_loss')
fig.suptitle('Loss', fontsize=20)
plt.legend(loc="upper left")
plt.show()


fig = plt.figure()
plt.plot(hist.history['accuracy'], color='teal', label='accuracy')
plt.plot(hist.history['val_accuracy'], color='orange', label='val_accuracy')
fig.suptitle('Accuracy', fontsize=20)
plt.legend(loc="upper left")
plt.show()





from tensorflow.keras.metrics import Precision, Recall, BinaryAccuracy


pre = Precision()
re = Recall()
acc = BinaryAccuracy()


for batch in test.as_numpy_iterator():
    X, y = batch
    yhat = model.predict(X)
    yhat_classes = np.argmax(yhat, axis=1)
    prec.update_state(y, yhat_classes)
    rec.update_state(y, yhat_classes)
    acc.update_state(y, yhat_classes)


print(f'Precision: {pre.result().numpy()}')
print(f'Recall: {re.result().numpy()}')
print(f'Accuracy: {acc.result().numpy()}')





import cv2


class_names = [
    "apple_pie", "baby_back_ribs", "baklava", "beef_carpaccio", "beef_tartare", "beet_salad", 
    "beignets", "bibimbap", "bread_pudding", "breakfast_burrito", "bruschetta", "caesar_salad", 
    "cannoli", "caprese_salad", "carrot_cake", "ceviche", "cheese_plate", "cheesecake", 
    "chicken_curry", "chicken_quesadilla", "chicken_wings", "chocolate_cake", "chocolate_mousse", 
    "churros", "clam_chowder", "club_sandwich", "crab_cakes", "creme_brulee", "croque_madame", 
    "cup_cakes", "deviled_eggs", "donuts", "dumplings", "edamame", "eggs_benedict", "escargots", 
    "falafel", "filet_mignon", "fish_and_chips", "foie_gras", "french_fries", "french_onion_soup", 
    "french_toast", "fried_calamari", "fried_rice", "frozen_yogurt", "garlic_bread", "gnocchi", 
    "greek_salad", "grilled_cheese_sandwich", "grilled_salmon", "guacamole", "gyoza", "hamburger", 
    "hot_and_sour_soup", "hot_dog", "huevos_rancheros", "hummus", "ice_cream", "lasagna", 
    "lobster_bisque", "lobster_roll_sandwich", "macaroni_and_cheese", "macarons", "miso_soup", 
    "mussels", "nachos", "omelette", "onion_rings", "oysters", "pad_thai", "paella", "pancakes", 
    "panna_cotta", "peking_duck", "pho", "pizza", "pork_chop", "poutine", "prime_rib", 
    "pulled_pork_sandwich", "ramen", "ravioli", "red_velvet_cake", "risotto", "samosa", 
    "sashimi", "scallops", "seaweed_salad", "shrimp_and_grits", "spaghetti_bolognese", 
    "spaghetti_carbonara", "spring_rolls", "steak", "strawberry_shortcake", "sushi", "tacos", 
    "takoyaki", "tiramisu", "tuna_tartare", "waffles"
]


img = cv2.imread('foodtest.jpg')
plt.imshow(img)
plt.show()


img_resized = tf.image.resize(img, (256, 256))
img_resized = img_resized / 255.0 
plt.imshow(img_resized)
plt.show()


yhat = model.predict(np.expand_dims(img_resized, 0))


yhat_class = np.argmax(yhat, axis=1)[0]


print(f'Predicted class is {class_names[yhat_class]}')





from tensorflow.keras.models import load_model


model_path = os.path.join('models', 'imageclassifier.keras')


new_model = load_model(model_path)


new_model.predict(np.expand_dims(resize/255, 0))
